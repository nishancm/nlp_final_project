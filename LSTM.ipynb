{
 "cells": [
  {
   "cell_type": "markdown",
   "metadata": {},
   "source": [
    "This model is inspired by https://medium.com/mlreview/implementing-malstm-on-kaggles-quora-question-pairs-competition-8b31b0b16a07"
   ]
  },
  {
   "cell_type": "code",
   "execution_count": 137,
   "metadata": {},
   "outputs": [],
   "source": [
    "import pandas as pd\n",
    "from nltk.corpus import stopwords\n",
    "from textblob import TextBlob\n",
    "import re\n",
    "import gensim\n",
    "import pickle\n",
    "import numpy as np\n",
    "from sklearn.model_selection import train_test_split\n",
    "import itertools\n",
    "from keras.preprocessing.sequence import pad_sequences\n",
    "import keras.backend as K\n",
    "from keras.layers import Input, Embedding, LSTM, merge, Lambda\n",
    "from keras.models import Model\n",
    "from keras.optimizers import Adadelta\n",
    "from sklearn.metrics import confusion_matrix\n",
    "from display_confusion_matrix import display_confusion_matrix"
   ]
  },
  {
   "cell_type": "code",
   "execution_count": 2,
   "metadata": {},
   "outputs": [],
   "source": [
    "quora = pd.read_csv(\"train.csv\")"
   ]
  },
  {
   "cell_type": "code",
   "execution_count": 27,
   "metadata": {},
   "outputs": [
    {
     "data": {
      "text/html": [
       "<div>\n",
       "<style scoped>\n",
       "    .dataframe tbody tr th:only-of-type {\n",
       "        vertical-align: middle;\n",
       "    }\n",
       "\n",
       "    .dataframe tbody tr th {\n",
       "        vertical-align: top;\n",
       "    }\n",
       "\n",
       "    .dataframe thead th {\n",
       "        text-align: right;\n",
       "    }\n",
       "</style>\n",
       "<table border=\"1\" class=\"dataframe\">\n",
       "  <thead>\n",
       "    <tr style=\"text-align: right;\">\n",
       "      <th></th>\n",
       "      <th>id</th>\n",
       "      <th>qid1</th>\n",
       "      <th>qid2</th>\n",
       "      <th>question1</th>\n",
       "      <th>question2</th>\n",
       "      <th>is_duplicate</th>\n",
       "    </tr>\n",
       "  </thead>\n",
       "  <tbody>\n",
       "    <tr>\n",
       "      <th>0</th>\n",
       "      <td>0</td>\n",
       "      <td>1</td>\n",
       "      <td>2</td>\n",
       "      <td>What is the step by step guide to invest in sh...</td>\n",
       "      <td>What is the step by step guide to invest in sh...</td>\n",
       "      <td>0</td>\n",
       "    </tr>\n",
       "    <tr>\n",
       "      <th>1</th>\n",
       "      <td>1</td>\n",
       "      <td>3</td>\n",
       "      <td>4</td>\n",
       "      <td>What is the story of Kohinoor (Koh-i-Noor) Dia...</td>\n",
       "      <td>What would happen if the Indian government sto...</td>\n",
       "      <td>0</td>\n",
       "    </tr>\n",
       "    <tr>\n",
       "      <th>2</th>\n",
       "      <td>2</td>\n",
       "      <td>5</td>\n",
       "      <td>6</td>\n",
       "      <td>How can I increase the speed of my internet co...</td>\n",
       "      <td>How can Internet speed be increased by hacking...</td>\n",
       "      <td>0</td>\n",
       "    </tr>\n",
       "    <tr>\n",
       "      <th>3</th>\n",
       "      <td>3</td>\n",
       "      <td>7</td>\n",
       "      <td>8</td>\n",
       "      <td>Why am I mentally very lonely? How can I solve...</td>\n",
       "      <td>Find the remainder when [math]23^{24}[/math] i...</td>\n",
       "      <td>0</td>\n",
       "    </tr>\n",
       "    <tr>\n",
       "      <th>4</th>\n",
       "      <td>4</td>\n",
       "      <td>9</td>\n",
       "      <td>10</td>\n",
       "      <td>Which one dissolve in water quikly sugar, salt...</td>\n",
       "      <td>Which fish would survive in salt water?</td>\n",
       "      <td>0</td>\n",
       "    </tr>\n",
       "  </tbody>\n",
       "</table>\n",
       "</div>"
      ],
      "text/plain": [
       "   id  qid1  qid2                                          question1  \\\n",
       "0   0     1     2  What is the step by step guide to invest in sh...   \n",
       "1   1     3     4  What is the story of Kohinoor (Koh-i-Noor) Dia...   \n",
       "2   2     5     6  How can I increase the speed of my internet co...   \n",
       "3   3     7     8  Why am I mentally very lonely? How can I solve...   \n",
       "4   4     9    10  Which one dissolve in water quikly sugar, salt...   \n",
       "\n",
       "                                           question2  is_duplicate  \n",
       "0  What is the step by step guide to invest in sh...             0  \n",
       "1  What would happen if the Indian government sto...             0  \n",
       "2  How can Internet speed be increased by hacking...             0  \n",
       "3  Find the remainder when [math]23^{24}[/math] i...             0  \n",
       "4            Which fish would survive in salt water?             0  "
      ]
     },
     "execution_count": 27,
     "metadata": {},
     "output_type": "execute_result"
    }
   ],
   "source": [
    "quora.head()"
   ]
  },
  {
   "cell_type": "markdown",
   "metadata": {},
   "source": [
    "# Preprocessing"
   ]
  },
  {
   "cell_type": "code",
   "execution_count": 4,
   "metadata": {},
   "outputs": [],
   "source": [
    "stop_words = stopwords.words('english')"
   ]
  },
  {
   "cell_type": "code",
   "execution_count": 5,
   "metadata": {},
   "outputs": [],
   "source": [
    "def clean_question(q):\n",
    "    \"\"\"\n",
    "    Clean the text in a given question to provide\n",
    "    a list of relevent words\n",
    "    \"\"\"\n",
    "\n",
    "    q = str(q)\n",
    "    q = q.lower() # lowercase\n",
    "    q = re.sub(r\"what's\", \"what is \", q)\n",
    "    q = re.sub(r\"\\'ve\", \" have \", q)\n",
    "    q = re.sub(r\"can't\", \"cannot \", q)\n",
    "    q = re.sub(r\"n't\", \" not \", q)\n",
    "    q = re.sub(r\"i'm\", \"i am \", q)\n",
    "    q = re.sub(r\"\\'re\", \" are \", q)\n",
    "    q = re.sub(r\"\\'d\", \" would \", q)\n",
    "    q = re.sub(r\"\\'ll\", \" will \", q)\n",
    "    q = re.sub(r\"[^A-Za-z0-9]\", \" \", q)\n",
    "    q = TextBlob(q).tokens #tokenize\n",
    "    return q"
   ]
  },
  {
   "cell_type": "code",
   "execution_count": 6,
   "metadata": {},
   "outputs": [],
   "source": [
    "# load google vectors\n",
    "word2vec = gensim.models.KeyedVectors.load_word2vec_format(\"GoogleNews-vectors-negative300.bin.gz\", \n",
    "                                             binary=True)"
   ]
  },
  {
   "cell_type": "code",
   "execution_count": 7,
   "metadata": {},
   "outputs": [
    {
     "name": "stderr",
     "output_type": "stream",
     "text": [
      "/home/ec2-user/anaconda3/envs/nlp/lib/python3.6/site-packages/ipykernel_launcher.py:28: FutureWarning: set_value is deprecated and will be removed in a future release. Please use .at[] or .iat[] accessors instead\n"
     ]
    },
    {
     "name": "stdout",
     "output_type": "stream",
     "text": [
      "CPU times: user 4min 10s, sys: 360 ms, total: 4min 10s\n",
      "Wall time: 4min 10s\n"
     ]
    }
   ],
   "source": [
    "%%time\n",
    "# cleans the the text in question1 and question2, and them turn them into integers\n",
    "# while creating the dictionary\n",
    "# Prepare embedding\n",
    "\n",
    "# vocabulary store the index of each word\n",
    "vocabulary = dict()\n",
    "# used keep track of the index of different words\n",
    "inverse_vocabulary = ['<unk>']  # '<unk>' will never be used, it is only a placeholder for the [0, 0, ....0] embedding\n",
    "questions_cols = ['question1', 'question2']\n",
    "dataset = quora.copy()\n",
    "\n",
    "# Iterate over the questions only of both training and test datasets\n",
    "for index, row in dataset.iterrows():\n",
    "\n",
    "    # Iterate through the text of both questions of the row\n",
    "    for question in questions_cols:\n",
    "\n",
    "        q2n = []  # q2n -> question numbers representation\n",
    "        for word in clean_question(row[question]):\n",
    "\n",
    "            # Check for unwanted words\n",
    "            if word in stop_words and word not in word2vec.vocab:\n",
    "                continue\n",
    "\n",
    "            if word not in vocabulary:\n",
    "                vocabulary[word] = len(inverse_vocabulary)\n",
    "                q2n.append(len(inverse_vocabulary))\n",
    "                inverse_vocabulary.append(word)\n",
    "            else:\n",
    "                q2n.append(vocabulary[word])\n",
    "\n",
    "        # Replace questions as word to question as number representation\n",
    "        dataset.set_value(index, question, q2n)"
   ]
  },
  {
   "cell_type": "code",
   "execution_count": 180,
   "metadata": {},
   "outputs": [],
   "source": [
    "with open('vocabulary', 'wb') as f:\n",
    "    pickle.dump(vocabulary, f)"
   ]
  },
  {
   "cell_type": "code",
   "execution_count": 8,
   "metadata": {},
   "outputs": [
    {
     "data": {
      "text/html": [
       "<div>\n",
       "<style scoped>\n",
       "    .dataframe tbody tr th:only-of-type {\n",
       "        vertical-align: middle;\n",
       "    }\n",
       "\n",
       "    .dataframe tbody tr th {\n",
       "        vertical-align: top;\n",
       "    }\n",
       "\n",
       "    .dataframe thead th {\n",
       "        text-align: right;\n",
       "    }\n",
       "</style>\n",
       "<table border=\"1\" class=\"dataframe\">\n",
       "  <thead>\n",
       "    <tr style=\"text-align: right;\">\n",
       "      <th></th>\n",
       "      <th>id</th>\n",
       "      <th>qid1</th>\n",
       "      <th>qid2</th>\n",
       "      <th>question1</th>\n",
       "      <th>question2</th>\n",
       "      <th>is_duplicate</th>\n",
       "    </tr>\n",
       "  </thead>\n",
       "  <tbody>\n",
       "    <tr>\n",
       "      <th>0</th>\n",
       "      <td>0</td>\n",
       "      <td>1</td>\n",
       "      <td>2</td>\n",
       "      <td>[1, 2, 3, 4, 5, 4, 6, 7, 8, 9, 10, 8, 11]</td>\n",
       "      <td>[1, 2, 3, 4, 5, 4, 6, 7, 8, 9, 10]</td>\n",
       "      <td>0</td>\n",
       "    </tr>\n",
       "    <tr>\n",
       "      <th>1</th>\n",
       "      <td>1</td>\n",
       "      <td>3</td>\n",
       "      <td>4</td>\n",
       "      <td>[1, 2, 3, 12, 13, 14, 15, 16, 17]</td>\n",
       "      <td>[1, 18, 19, 20, 3, 21, 22, 23, 3, 13, 14, 15, ...</td>\n",
       "      <td>0</td>\n",
       "    </tr>\n",
       "    <tr>\n",
       "      <th>2</th>\n",
       "      <td>2</td>\n",
       "      <td>5</td>\n",
       "      <td>6</td>\n",
       "      <td>[25, 26, 15, 27, 3, 28, 29, 30, 31, 32, 33, 34]</td>\n",
       "      <td>[25, 26, 30, 28, 35, 36, 5, 37, 38, 39]</td>\n",
       "      <td>0</td>\n",
       "    </tr>\n",
       "    <tr>\n",
       "      <th>3</th>\n",
       "      <td>3</td>\n",
       "      <td>7</td>\n",
       "      <td>8</td>\n",
       "      <td>[40, 41, 15, 42, 43, 44, 25, 26, 15, 45, 46]</td>\n",
       "      <td>[47, 3, 48, 49, 50, 51, 52, 50, 2, 53, 5, 52, 51]</td>\n",
       "      <td>0</td>\n",
       "    </tr>\n",
       "    <tr>\n",
       "      <th>4</th>\n",
       "      <td>4</td>\n",
       "      <td>9</td>\n",
       "      <td>10</td>\n",
       "      <td>[54, 55, 56, 8, 57, 58, 59, 60, 61, 62, 63, 64]</td>\n",
       "      <td>[54, 65, 18, 66, 8, 60, 57]</td>\n",
       "      <td>0</td>\n",
       "    </tr>\n",
       "  </tbody>\n",
       "</table>\n",
       "</div>"
      ],
      "text/plain": [
       "   id  qid1  qid2                                        question1  \\\n",
       "0   0     1     2        [1, 2, 3, 4, 5, 4, 6, 7, 8, 9, 10, 8, 11]   \n",
       "1   1     3     4                [1, 2, 3, 12, 13, 14, 15, 16, 17]   \n",
       "2   2     5     6  [25, 26, 15, 27, 3, 28, 29, 30, 31, 32, 33, 34]   \n",
       "3   3     7     8     [40, 41, 15, 42, 43, 44, 25, 26, 15, 45, 46]   \n",
       "4   4     9    10  [54, 55, 56, 8, 57, 58, 59, 60, 61, 62, 63, 64]   \n",
       "\n",
       "                                           question2  is_duplicate  \n",
       "0                 [1, 2, 3, 4, 5, 4, 6, 7, 8, 9, 10]             0  \n",
       "1  [1, 18, 19, 20, 3, 21, 22, 23, 3, 13, 14, 15, ...             0  \n",
       "2            [25, 26, 30, 28, 35, 36, 5, 37, 38, 39]             0  \n",
       "3  [47, 3, 48, 49, 50, 51, 52, 50, 2, 53, 5, 52, 51]             0  \n",
       "4                        [54, 65, 18, 66, 8, 60, 57]             0  "
      ]
     },
     "execution_count": 8,
     "metadata": {},
     "output_type": "execute_result"
    }
   ],
   "source": [
    "dataset.head()"
   ]
  },
  {
   "cell_type": "code",
   "execution_count": 10,
   "metadata": {},
   "outputs": [],
   "source": [
    "with open('quora_words_as_int', 'wb') as f:\n",
    "    pickle.dump(dataset, f)"
   ]
  },
  {
   "cell_type": "code",
   "execution_count": 16,
   "metadata": {},
   "outputs": [
    {
     "data": {
      "text/plain": [
       "(4, ['<unk>', 'what', 'is'])"
      ]
     },
     "execution_count": 16,
     "metadata": {},
     "output_type": "execute_result"
    }
   ],
   "source": [
    "vocabulary['step'], inverse_vocabulary[:3]"
   ]
  },
  {
   "cell_type": "markdown",
   "metadata": {},
   "source": [
    "# Create embedding matrix"
   ]
  },
  {
   "cell_type": "code",
   "execution_count": 22,
   "metadata": {},
   "outputs": [],
   "source": [
    "embedding_dim = 300\n",
    "embeddings = 1 * np.random.randn(len(vocabulary) + 1, embedding_dim)  # This will be the embedding matrix\n",
    "embeddings[0] = 0  # So that the padding will be ignored"
   ]
  },
  {
   "cell_type": "code",
   "execution_count": 23,
   "metadata": {},
   "outputs": [
    {
     "data": {
      "text/plain": [
       "(85367, 300)"
      ]
     },
     "execution_count": 23,
     "metadata": {},
     "output_type": "execute_result"
    }
   ],
   "source": [
    "embeddings.shape"
   ]
  },
  {
   "cell_type": "code",
   "execution_count": 24,
   "metadata": {},
   "outputs": [],
   "source": [
    "# Build the embedding matrix by including google vectors for each word\n",
    "for word, index in vocabulary.items():\n",
    "    if word in word2vec.vocab:\n",
    "        embeddings[index] = word2vec.word_vec(word)"
   ]
  },
  {
   "cell_type": "markdown",
   "metadata": {},
   "source": [
    "# Training and validation sets"
   ]
  },
  {
   "cell_type": "code",
   "execution_count": 28,
   "metadata": {},
   "outputs": [
    {
     "data": {
      "text/plain": [
       "217"
      ]
     },
     "execution_count": 28,
     "metadata": {},
     "output_type": "execute_result"
    }
   ],
   "source": [
    "# find longest cleaned sentence\n",
    "max_seq_length = max(dataset.question1.map(lambda x: len(x)).max(),\n",
    "                     dataset.question2.map(lambda x: len(x)).max())\n",
    "max_seq_length"
   ]
  },
  {
   "cell_type": "code",
   "execution_count": 181,
   "metadata": {},
   "outputs": [],
   "source": [
    "with open('max_seq_length', 'wb') as f:\n",
    "    pickle.dump(max_seq_length, f)"
   ]
  },
  {
   "cell_type": "code",
   "execution_count": 31,
   "metadata": {},
   "outputs": [],
   "source": [
    "# 10% as validation set\n",
    "X_train, X_val, y_train, y_val = train_test_split(dataset.drop('is_duplicate', axis=1)\n",
    "                                                  , dataset.is_duplicate.copy(), \n",
    "                                                  test_size=0.1, random_state=8)"
   ]
  },
  {
   "cell_type": "code",
   "execution_count": 32,
   "metadata": {},
   "outputs": [],
   "source": [
    "X_train.reset_index(drop=True, inplace=True)\n",
    "X_val.reset_index(drop=True, inplace=True)\n",
    "y_train.reset_index(drop=True, inplace=True)\n",
    "y_val.reset_index(drop=True, inplace=True)"
   ]
  },
  {
   "cell_type": "code",
   "execution_count": 34,
   "metadata": {},
   "outputs": [],
   "source": [
    "# question 1 and 2 seperately\n",
    "X_train = {'left': X_train.question1, 'right': X_train.question2}\n",
    "X_val = {'left': X_val.question1, 'right': X_val.question2}"
   ]
  },
  {
   "cell_type": "code",
   "execution_count": 36,
   "metadata": {},
   "outputs": [],
   "source": [
    "# Convert labels to their numpy representations\n",
    "y_train = y_train.values\n",
    "y_val = y_val.values"
   ]
  },
  {
   "cell_type": "markdown",
   "metadata": {},
   "source": [
    "# Zero padding"
   ]
  },
  {
   "cell_type": "code",
   "execution_count": 43,
   "metadata": {},
   "outputs": [
    {
     "data": {
      "text/plain": [
       "[1, 18, 96, 94, 20, 96, 974, 1583, 2667, 1146]"
      ]
     },
     "execution_count": 43,
     "metadata": {},
     "output_type": "execute_result"
    }
   ],
   "source": [
    "X_train['left'][0]"
   ]
  },
  {
   "cell_type": "code",
   "execution_count": 46,
   "metadata": {},
   "outputs": [],
   "source": [
    "# padding make sure everything is of same size\n",
    "for dataset, side in itertools.product([X_train, X_val], ['left', 'right']):\n",
    "    dataset[side] = pad_sequences(dataset[side], maxlen=max_seq_length)"
   ]
  },
  {
   "cell_type": "code",
   "execution_count": 47,
   "metadata": {},
   "outputs": [
    {
     "data": {
      "text/plain": [
       "array([   0,    0,    0,    0,    0,    0,    0,    0,    0,    0,    0,\n",
       "          0,    0,    0,    0,    0,    0,    0,    0,    0,    0,    0,\n",
       "          0,    0,    0,    0,    0,    0,    0,    0,    0,    0,    0,\n",
       "          0,    0,    0,    0,    0,    0,    0,    0,    0,    0,    0,\n",
       "          0,    0,    0,    0,    0,    0,    0,    0,    0,    0,    0,\n",
       "          0,    0,    0,    0,    0,    0,    0,    0,    0,    0,    0,\n",
       "          0,    0,    0,    0,    0,    0,    0,    0,    0,    0,    0,\n",
       "          0,    0,    0,    0,    0,    0,    0,    0,    0,    0,    0,\n",
       "          0,    0,    0,    0,    0,    0,    0,    0,    0,    0,    0,\n",
       "          0,    0,    0,    0,    0,    0,    0,    0,    0,    0,    0,\n",
       "          0,    0,    0,    0,    0,    0,    0,    0,    0,    0,    0,\n",
       "          0,    0,    0,    0,    0,    0,    0,    0,    0,    0,    0,\n",
       "          0,    0,    0,    0,    0,    0,    0,    0,    0,    0,    0,\n",
       "          0,    0,    0,    0,    0,    0,    0,    0,    0,    0,    0,\n",
       "          0,    0,    0,    0,    0,    0,    0,    0,    0,    0,    0,\n",
       "          0,    0,    0,    0,    0,    0,    0,    0,    0,    0,    0,\n",
       "          0,    0,    0,    0,    0,    0,    0,    0,    0,    0,    0,\n",
       "          0,    0,    0,    0,    0,    0,    0,    0,    0,    0,    0,\n",
       "          0,    0,    0,    0,    0,    0,    0,    0,    0,    1,   18,\n",
       "         96,   94,   20,   96,  974, 1583, 2667, 1146], dtype=int32)"
      ]
     },
     "execution_count": 47,
     "metadata": {},
     "output_type": "execute_result"
    }
   ],
   "source": [
    "X_train['left'][0]"
   ]
  },
  {
   "cell_type": "markdown",
   "metadata": {},
   "source": [
    "# Model"
   ]
  },
  {
   "cell_type": "code",
   "execution_count": 113,
   "metadata": {},
   "outputs": [],
   "source": [
    "# Model variables\n",
    "n_hidden = 50\n",
    "gradient_clipping_norm = 1.25\n",
    "batch_size = 64\n",
    "n_epoch = 5"
   ]
  },
  {
   "cell_type": "code",
   "execution_count": 114,
   "metadata": {},
   "outputs": [],
   "source": [
    "# manhattn distance calculated for output of LSTM for question1 and question2\n",
    "def exponent_neg_manhattan_distance(left, right):\n",
    "    '''similarity estimate of the LSTMs outputs'''\n",
    "    return K.exp(-K.sum(K.abs(left-right), axis=1, keepdims=True))"
   ]
  },
  {
   "cell_type": "code",
   "execution_count": 115,
   "metadata": {},
   "outputs": [],
   "source": [
    "# The visible layer\n",
    "left_input = Input(shape=(max_seq_length,), dtype='int32')\n",
    "right_input = Input(shape=(max_seq_length,), dtype='int32')"
   ]
  },
  {
   "cell_type": "code",
   "execution_count": 116,
   "metadata": {},
   "outputs": [],
   "source": [
    "# embedding layer\n",
    "embedding_layer = Embedding(len(embeddings), embedding_dim, weights=[embeddings], \n",
    "                            input_length=max_seq_length, trainable=False)\n",
    "# Embedded version of the inputs\n",
    "encoded_left = embedding_layer(left_input)\n",
    "encoded_right = embedding_layer(right_input)"
   ]
  },
  {
   "cell_type": "code",
   "execution_count": 117,
   "metadata": {},
   "outputs": [],
   "source": [
    "# LSTM layer - single layer a this is a siamese network\n",
    "shared_lstm = LSTM(n_hidden)\n",
    "left_output = shared_lstm(encoded_left)\n",
    "right_output = shared_lstm(encoded_right)"
   ]
  },
  {
   "cell_type": "code",
   "execution_count": 118,
   "metadata": {},
   "outputs": [],
   "source": [
    "# Calculates the distance as defined by the MaLSTM model\n",
    "malstm_distance = Lambda(lambda x: exponent_neg_manhattan_distance(x[0], x[1]), \n",
    "                         lambda x: (x[0][0], 1))([left_output, right_output])\n",
    "# Pack it all up into a model\n",
    "malstm = Model([left_input, right_input], [malstm_distance])"
   ]
  },
  {
   "cell_type": "code",
   "execution_count": 119,
   "metadata": {},
   "outputs": [
    {
     "name": "stdout",
     "output_type": "stream",
     "text": [
      "__________________________________________________________________________________________________\n",
      "Layer (type)                    Output Shape         Param #     Connected to                     \n",
      "==================================================================================================\n",
      "input_9 (InputLayer)            (None, 217)          0                                            \n",
      "__________________________________________________________________________________________________\n",
      "input_10 (InputLayer)           (None, 217)          0                                            \n",
      "__________________________________________________________________________________________________\n",
      "embedding_4 (Embedding)         (None, 217, 300)     25610100    input_9[0][0]                    \n",
      "                                                                 input_10[0][0]                   \n",
      "__________________________________________________________________________________________________\n",
      "lstm_4 (LSTM)                   (None, 50)           70200       embedding_4[0][0]                \n",
      "                                                                 embedding_4[1][0]                \n",
      "__________________________________________________________________________________________________\n",
      "lambda_7 (Lambda)               (None, 1)            0           lstm_4[0][0]                     \n",
      "                                                                 lstm_4[1][0]                     \n",
      "==================================================================================================\n",
      "Total params: 25,680,300\n",
      "Trainable params: 70,200\n",
      "Non-trainable params: 25,610,100\n",
      "__________________________________________________________________________________________________\n"
     ]
    }
   ],
   "source": [
    "# Adadelta optimizer, with gradient clipping by norm\n",
    "optimizer = Adadelta(clipnorm=gradient_clipping_norm)\n",
    "malstm.compile(loss='binary_crossentropy', optimizer=optimizer, \n",
    "               metrics=['binary_crossentropy', 'accuracy'])\n",
    "# model summary\n",
    "malstm.summary()"
   ]
  },
  {
   "cell_type": "markdown",
   "metadata": {},
   "source": [
    "## Train model"
   ]
  },
  {
   "cell_type": "code",
   "execution_count": 120,
   "metadata": {},
   "outputs": [
    {
     "name": "stdout",
     "output_type": "stream",
     "text": [
      "Train on 363861 samples, validate on 40429 samples\n",
      "Epoch 1/5\n",
      "363861/363861 [==============================] - 3655s 10ms/step - loss: 0.5168 - binary_crossentropy: 0.5168 - acc: 0.7540 - val_loss: 0.4789 - val_binary_crossentropy: 0.4789 - val_acc: 0.7803\n",
      "Epoch 2/5\n",
      "363861/363861 [==============================] - 3662s 10ms/step - loss: 0.4597 - binary_crossentropy: 0.4597 - acc: 0.7884 - val_loss: 0.4577 - val_binary_crossentropy: 0.4577 - val_acc: 0.7928\n",
      "Epoch 3/5\n",
      "363861/363861 [==============================] - 3674s 10ms/step - loss: 0.4420 - binary_crossentropy: 0.4420 - acc: 0.7986 - val_loss: 0.4474 - val_binary_crossentropy: 0.4474 - val_acc: 0.7971\n",
      "Epoch 4/5\n",
      "363861/363861 [==============================] - 3667s 10ms/step - loss: 0.4307 - binary_crossentropy: 0.4307 - acc: 0.8055 - val_loss: 0.4419 - val_binary_crossentropy: 0.4419 - val_acc: 0.8011\n",
      "Epoch 5/5\n",
      "363861/363861 [==============================] - 3665s 10ms/step - loss: 0.4225 - binary_crossentropy: 0.4225 - acc: 0.8099 - val_loss: 0.4377 - val_binary_crossentropy: 0.4377 - val_acc: 0.8043\n"
     ]
    }
   ],
   "source": [
    "malstm_trained = malstm.fit([X_train['left'], X_train['right']], \n",
    "                            y_train, batch_size=batch_size, epochs=n_epoch,\n",
    "                            validation_data=([X_val['left'], \n",
    "                                              X_val['right']], y_val))"
   ]
  },
  {
   "cell_type": "code",
   "execution_count": 121,
   "metadata": {},
   "outputs": [],
   "source": [
    "malstm_trained.model.save(\"lstm_model\")"
   ]
  },
  {
   "cell_type": "markdown",
   "metadata": {},
   "source": [
    "# Evaluate predictions"
   ]
  },
  {
   "cell_type": "code",
   "execution_count": 127,
   "metadata": {},
   "outputs": [],
   "source": [
    "pred_v = malstm_trained.model.predict([X_val['left'], X_val['right']], batch_size=batch_size)"
   ]
  },
  {
   "cell_type": "code",
   "execution_count": 135,
   "metadata": {},
   "outputs": [],
   "source": [
    "pred_v = np.hstack(pred_v)"
   ]
  },
  {
   "cell_type": "code",
   "execution_count": 139,
   "metadata": {},
   "outputs": [
    {
     "data": {
      "image/png": "[encoded data removed]",
      "text/plain": [
       "<Figure size 576x576 with 1 Axes>"
      ]
     },
     "metadata": {},
     "output_type": "display_data"
    }
   ],
   "source": [
    "display_confusion_matrix(confusion_matrix(y_val, pred_v > 0.5))"
   ]
  },
  {
   "cell_type": "code",
   "execution_count": 164,
   "metadata": {},
   "outputs": [],
   "source": [
    "# 10% as validation set\n",
    "_, validation_set, _, _ = train_test_split(quora, quora.is_duplicate.copy(), \n",
    "                                           test_size=0.1, random_state=8)\n",
    "validation_set.reset_index(drop=True, inplace=True)"
   ]
  },
  {
   "cell_type": "code",
   "execution_count": 175,
   "metadata": {},
   "outputs": [
    {
     "name": "stdout",
     "output_type": "stream",
     "text": [
      "('What is the best way to get free traffic to my website?', 'How can I get traffic for my website?')\n",
      "('What is the most complex romantic situation you have ever faced?', 'What is the most complex romantic situation you ever faced?')\n",
      "('How do you earn money from internet?', 'How does one earn money online without an investment from home?')\n",
      "('Which is better: Uber or Ola? Why?', 'What is better Uber or Ola? Why?')\n",
      "('How do you know if it is time for divorce?', 'How do you know if you should divorce?')\n"
     ]
    }
   ],
   "source": [
    "# True positives\n",
    "true_positives = (y_val == (pred_v > 0.5)) & (y_val==1)\n",
    "for _, row in validation_set[true_positives][:5].iterrows():\n",
    "    print((row['question1'], row['question2']))"
   ]
  },
  {
   "cell_type": "code",
   "execution_count": 176,
   "metadata": {},
   "outputs": [
    {
     "name": "stdout",
     "output_type": "stream",
     "text": [
      "('How can I integrate my Posterous blog into a Cargo Collective page?', 'How can I stop Posterous resizing my images?')\n",
      "('Magic Tricks: What do I need to do to build a coat rack that I can pull out of a bag as Mary Poppins does. I was hoping to find a retractable one but no luck. What do magicians use when pulling out absurdly long objects from small containers?', 'What is the best magic show you have ever seen? Were you able to figure out the tricks?')\n",
      "('How do I convince my girlfriend when her parents are scolding her badly?', 'How can I know that my girlfriend will really try to convince her parents?')\n",
      "('What do you think about cultural appropriation? Is it really a thing?', \"What's the big deal about cultural appropriation?\")\n",
      "('How do I become a real estate billionaire?', 'Can you become a real estate billionaire without making a company? If so, how?')\n"
     ]
    }
   ],
   "source": [
    "# True negatives\n",
    "true_negatives = (y_val == (pred_v > 0.5)) & (y_val==0)\n",
    "for _, row in validation_set[true_negatives][:5].iterrows():\n",
    "    print((row['question1'], row['question2']))"
   ]
  },
  {
   "cell_type": "code",
   "execution_count": 172,
   "metadata": {},
   "outputs": [
    {
     "name": "stdout",
     "output_type": "stream",
     "text": [
      "('How do I get freelance work?', 'How do I get my first freelancing work?')\n",
      "('How do I increase my presence of mind?', 'How can one improve their presence of mind?')\n",
      "('What are the best language exchange websites?', 'What is the best free website to find a language exchange?')\n",
      "('What are the best free Microsoft Office alternatives?', \"What's the best free alternative to Microsoft Office?\")\n",
      "('How do I  post a trending post on Quora?', 'How do I post in Quora?')\n"
     ]
    }
   ],
   "source": [
    "# Non dupilcated question pairs predicted as duplicated\n",
    "false_positives = (y_val != (pred_v > 0.5)) & (y_val==0)\n",
    "for _, row in validation_set[false_positives][:5].iterrows():\n",
    "    print((row['question1'], row['question2']))"
   ]
  },
  {
   "cell_type": "code",
   "execution_count": 173,
   "metadata": {},
   "outputs": [
    {
     "name": "stdout",
     "output_type": "stream",
     "text": [
      "('What makes a qualified doctor successful or failed?', 'What makes a successful doctor?')\n",
      "('How do I choose the best taxi services in Udaipur?', 'How do I choose best taxi service in Udaipur? How can I find that?')\n",
      "('What does an actuary do?', 'What do actuaries do?')\n",
      "('What is the best question asked in your interview?', \"What is the most interesting question you've been asked in an interview?\")\n",
      "('What are the most interesting fields ML is being used in today?', 'What are the most interesting applications of ML today?')\n"
     ]
    }
   ],
   "source": [
    "# Dupilcated question pairs predicted as non-duplicated\n",
    "false_negatives = (y_val != (pred_v > 0.5)) & (y_val==1)\n",
    "for _, row in validation_set[false_negatives][:5].iterrows():\n",
    "    print((row['question1'], row['question2']))"
   ]
  }
 ],
 "metadata": {
  "kernelspec": {
   "display_name": "Python 3",
   "language": "python",
   "name": "python3"
  },
  "language_info": {
   "codemirror_mode": {
    "name": "ipython",
    "version": 3
   },
   "file_extension": ".py",
   "mimetype": "text/x-python",
   "name": "python",
   "nbconvert_exporter": "python",
   "pygments_lexer": "ipython3",
   "version": "3.6.5"
  }
 },
 "nbformat": 4,
 "nbformat_minor": 2
}
